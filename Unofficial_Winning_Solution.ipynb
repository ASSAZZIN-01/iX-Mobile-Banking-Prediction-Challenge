{
  "nbformat": 4,
  "nbformat_minor": 0,
  "metadata": {
    "colab": {
      "name": "Solution.ipynb",
      "provenance": [],
      "collapsed_sections": []
    },
    "kernelspec": {
      "name": "python3",
      "display_name": "Python 3"
    },
    "language_info": {
      "name": "python"
    },
    "accelerator": "GPU",
    "widgets": {
      "application/vnd.jupyter.widget-state+json": {
        "56560fdc4ac941bf83f009d1f79134c1": {
          "model_module": "@jupyter-widgets/controls",
          "model_name": "HBoxModel",
          "state": {
            "_view_name": "HBoxView",
            "_dom_classes": [],
            "_model_name": "HBoxModel",
            "_view_module": "@jupyter-widgets/controls",
            "_model_module_version": "1.5.0",
            "_view_count": null,
            "_view_module_version": "1.5.0",
            "box_style": "",
            "layout": "IPY_MODEL_cdc4975b72f34004aa0a300d54b4ffb3",
            "_model_module": "@jupyter-widgets/controls",
            "children": [
              "IPY_MODEL_4556e2737f584ccbb05aaf1e1664e03c",
              "IPY_MODEL_9b07c2897f73432fb63a45f4cd3042a6"
            ]
          }
        },
        "cdc4975b72f34004aa0a300d54b4ffb3": {
          "model_module": "@jupyter-widgets/base",
          "model_name": "LayoutModel",
          "state": {
            "_view_name": "LayoutView",
            "grid_template_rows": null,
            "right": null,
            "justify_content": null,
            "_view_module": "@jupyter-widgets/base",
            "overflow": null,
            "_model_module_version": "1.2.0",
            "_view_count": null,
            "flex_flow": null,
            "width": null,
            "min_width": null,
            "border": null,
            "align_items": null,
            "bottom": null,
            "_model_module": "@jupyter-widgets/base",
            "top": null,
            "grid_column": null,
            "overflow_y": null,
            "overflow_x": null,
            "grid_auto_flow": null,
            "grid_area": null,
            "grid_template_columns": null,
            "flex": null,
            "_model_name": "LayoutModel",
            "justify_items": null,
            "grid_row": null,
            "max_height": null,
            "align_content": null,
            "visibility": null,
            "align_self": null,
            "height": null,
            "min_height": null,
            "padding": null,
            "grid_auto_rows": null,
            "grid_gap": null,
            "max_width": null,
            "order": null,
            "_view_module_version": "1.2.0",
            "grid_template_areas": null,
            "object_position": null,
            "object_fit": null,
            "grid_auto_columns": null,
            "margin": null,
            "display": null,
            "left": null
          }
        },
        "4556e2737f584ccbb05aaf1e1664e03c": {
          "model_module": "@jupyter-widgets/controls",
          "model_name": "FloatProgressModel",
          "state": {
            "_view_name": "ProgressView",
            "style": "IPY_MODEL_7fb527f685ca44a7a59302df6bcd2864",
            "_dom_classes": [],
            "description": "100%",
            "_model_name": "FloatProgressModel",
            "bar_style": "success",
            "max": 9,
            "_view_module": "@jupyter-widgets/controls",
            "_model_module_version": "1.5.0",
            "value": 9,
            "_view_count": null,
            "_view_module_version": "1.5.0",
            "orientation": "horizontal",
            "min": 0,
            "description_tooltip": null,
            "_model_module": "@jupyter-widgets/controls",
            "layout": "IPY_MODEL_d10e12466c7649b690226ffeab1a8efe"
          }
        },
        "9b07c2897f73432fb63a45f4cd3042a6": {
          "model_module": "@jupyter-widgets/controls",
          "model_name": "HTMLModel",
          "state": {
            "_view_name": "HTMLView",
            "style": "IPY_MODEL_9d5a06482fc74f87b1c11642bdeca26c",
            "_dom_classes": [],
            "description": "",
            "_model_name": "HTMLModel",
            "placeholder": "​",
            "_view_module": "@jupyter-widgets/controls",
            "_model_module_version": "1.5.0",
            "value": " 9/9 [00:20&lt;00:00,  2.29s/it]",
            "_view_count": null,
            "_view_module_version": "1.5.0",
            "description_tooltip": null,
            "_model_module": "@jupyter-widgets/controls",
            "layout": "IPY_MODEL_6469ff2f42ce4f53916bdeef640c2956"
          }
        },
        "7fb527f685ca44a7a59302df6bcd2864": {
          "model_module": "@jupyter-widgets/controls",
          "model_name": "ProgressStyleModel",
          "state": {
            "_view_name": "StyleView",
            "_model_name": "ProgressStyleModel",
            "description_width": "initial",
            "_view_module": "@jupyter-widgets/base",
            "_model_module_version": "1.5.0",
            "_view_count": null,
            "_view_module_version": "1.2.0",
            "bar_color": null,
            "_model_module": "@jupyter-widgets/controls"
          }
        },
        "d10e12466c7649b690226ffeab1a8efe": {
          "model_module": "@jupyter-widgets/base",
          "model_name": "LayoutModel",
          "state": {
            "_view_name": "LayoutView",
            "grid_template_rows": null,
            "right": null,
            "justify_content": null,
            "_view_module": "@jupyter-widgets/base",
            "overflow": null,
            "_model_module_version": "1.2.0",
            "_view_count": null,
            "flex_flow": null,
            "width": null,
            "min_width": null,
            "border": null,
            "align_items": null,
            "bottom": null,
            "_model_module": "@jupyter-widgets/base",
            "top": null,
            "grid_column": null,
            "overflow_y": null,
            "overflow_x": null,
            "grid_auto_flow": null,
            "grid_area": null,
            "grid_template_columns": null,
            "flex": null,
            "_model_name": "LayoutModel",
            "justify_items": null,
            "grid_row": null,
            "max_height": null,
            "align_content": null,
            "visibility": null,
            "align_self": null,
            "height": null,
            "min_height": null,
            "padding": null,
            "grid_auto_rows": null,
            "grid_gap": null,
            "max_width": null,
            "order": null,
            "_view_module_version": "1.2.0",
            "grid_template_areas": null,
            "object_position": null,
            "object_fit": null,
            "grid_auto_columns": null,
            "margin": null,
            "display": null,
            "left": null
          }
        },
        "9d5a06482fc74f87b1c11642bdeca26c": {
          "model_module": "@jupyter-widgets/controls",
          "model_name": "DescriptionStyleModel",
          "state": {
            "_view_name": "StyleView",
            "_model_name": "DescriptionStyleModel",
            "description_width": "",
            "_view_module": "@jupyter-widgets/base",
            "_model_module_version": "1.5.0",
            "_view_count": null,
            "_view_module_version": "1.2.0",
            "_model_module": "@jupyter-widgets/controls"
          }
        },
        "6469ff2f42ce4f53916bdeef640c2956": {
          "model_module": "@jupyter-widgets/base",
          "model_name": "LayoutModel",
          "state": {
            "_view_name": "LayoutView",
            "grid_template_rows": null,
            "right": null,
            "justify_content": null,
            "_view_module": "@jupyter-widgets/base",
            "overflow": null,
            "_model_module_version": "1.2.0",
            "_view_count": null,
            "flex_flow": null,
            "width": null,
            "min_width": null,
            "border": null,
            "align_items": null,
            "bottom": null,
            "_model_module": "@jupyter-widgets/base",
            "top": null,
            "grid_column": null,
            "overflow_y": null,
            "overflow_x": null,
            "grid_auto_flow": null,
            "grid_area": null,
            "grid_template_columns": null,
            "flex": null,
            "_model_name": "LayoutModel",
            "justify_items": null,
            "grid_row": null,
            "max_height": null,
            "align_content": null,
            "visibility": null,
            "align_self": null,
            "height": null,
            "min_height": null,
            "padding": null,
            "grid_auto_rows": null,
            "grid_gap": null,
            "max_width": null,
            "order": null,
            "_view_module_version": "1.2.0",
            "grid_template_areas": null,
            "object_position": null,
            "object_fit": null,
            "grid_auto_columns": null,
            "margin": null,
            "display": null,
            "left": null
          }
        }
      }
    }
  },
  "cells": [
    {
      "cell_type": "markdown",
      "metadata": {
        "id": "kZoYrrLR6T4c"
      },
      "source": [
        "# **Setup**"
      ]
    },
    {
      "cell_type": "code",
      "metadata": {
        "colab": {
          "base_uri": "https://localhost:8080/"
        },
        "id": "E5HgIUXHxRR1",
        "outputId": "1d1a9593-2fa7-498b-c28a-a3bc384137a8"
      },
      "source": [
        "from google.colab import drive\n",
        "drive.mount('/content/drive')"
      ],
      "execution_count": 4,
      "outputs": [
        {
          "output_type": "stream",
          "text": [
            "Drive already mounted at /content/drive; to attempt to forcibly remount, call drive.mount(\"/content/drive\", force_remount=True).\n"
          ],
          "name": "stdout"
        }
      ]
    },
    {
      "cell_type": "code",
      "metadata": {
        "id": "U09W6Wc6xXXE"
      },
      "source": [
        "!cp \"/content/drive/MyDrive/iX_Mobile_Banking_Prediction_Challenge/Data/Train.csv\" .\n",
        "!cp \"/content/drive/MyDrive/iX_Mobile_Banking_Prediction_Challenge/Data/Test.csv\" .\n",
        "!cp \"/content/drive/MyDrive/iX_Mobile_Banking_Prediction_Challenge/Data/SampleSubmission.csv\" .\n",
        "!cp \"/content/drive/MyDrive/iX_Mobile_Banking_Prediction_Challenge/Data/VariableDefinitions.csv\" ."
      ],
      "execution_count": 5,
      "outputs": []
    },
    {
      "cell_type": "code",
      "metadata": {
        "id": "6KJkIDevAcOD"
      },
      "source": [
        "import os, sys, gc, warnings, random\n",
        "import pandas as pd\n",
        "import numpy as np\n",
        "from sklearn.model_selection import StratifiedKFold\n",
        "from sklearn import preprocessing\n",
        "import lightgbm as lgb  \n",
        "from tqdm import tqdm_notebook\n",
        "from sklearn.metrics import auc, classification_report, roc_auc_score\n",
        "from lightgbm import LGBMClassifier\n",
        "from sklearn.ensemble import RandomForestClassifier\n",
        "\n",
        "import matplotlib.pyplot as plt\n",
        "import seaborn as sns\n",
        "%matplotlib inline\n",
        "\n",
        "import warnings\n",
        "warnings.simplefilter('ignore')"
      ],
      "execution_count": 47,
      "outputs": []
    },
    {
      "cell_type": "markdown",
      "metadata": {
        "id": "Z4ZJR5FD6WFl"
      },
      "source": [
        "# **Load Data - Processing**"
      ]
    },
    {
      "cell_type": "code",
      "metadata": {
        "id": "SC2E_65AxMrd"
      },
      "source": [
        "train = pd.read_csv('Train.csv')\n",
        "test = pd.read_csv('Test.csv')"
      ],
      "execution_count": 7,
      "outputs": []
    },
    {
      "cell_type": "code",
      "metadata": {
        "id": "Gx4ERvLbaNdE"
      },
      "source": [
        "def remove_nans(train,thresh) :\n",
        "  def nans_rate(train,col) :\n",
        "    return train[col].isna().sum() / train.shape[0]\n",
        "\n",
        "  for col in train.columns : \n",
        "    if nans_rate(train,col) >= thresh :\n",
        "      train.drop(col,axis=1,inplace=True)\n",
        "  return train"
      ],
      "execution_count": 9,
      "outputs": []
    },
    {
      "cell_type": "code",
      "metadata": {
        "id": "bb_7BGBHaEn1"
      },
      "source": [
        "train = remove_nans(train,thresh=0.8)\n",
        "test = test[train.columns[:-1]]"
      ],
      "execution_count": 10,
      "outputs": []
    },
    {
      "cell_type": "code",
      "metadata": {
        "id": "hkgwPOXgxnCO"
      },
      "source": [
        "def process(train , test) :\n",
        "  data = pd.concat([train,test])\n",
        "  data['age'].fillna(data.age.mean(),inplace=True)\n",
        "  FQ = data.filter(like= 'FQ').columns\n",
        "\n",
        "  for fq in FQ :\n",
        "    data[fq] = data[fq].fillna(-1)\n",
        "\n",
        "  data[FQ] = data[FQ].astype('int')\n",
        "  # get train - test\n",
        "  train = data[data['ID'].isin(train['ID'].unique())]\n",
        "  train['Target'] = train['Target'].astype('int')\n",
        "  test = data[~data['ID'].isin(train['ID'].unique())]\n",
        "\n",
        "  return train , test"
      ],
      "execution_count": 11,
      "outputs": []
    },
    {
      "cell_type": "code",
      "metadata": {
        "id": "9RGsf_j8x0wE"
      },
      "source": [
        "train , test = process(train , test)"
      ],
      "execution_count": 12,
      "outputs": []
    },
    {
      "cell_type": "code",
      "metadata": {
        "colab": {
          "base_uri": "https://localhost:8080/",
          "height": 224
        },
        "id": "EI5zEfF71Cpu",
        "outputId": "5dda5104-cede-49bd-f590-34c1b0eaef74"
      },
      "source": [
        "train.head()"
      ],
      "execution_count": 13,
      "outputs": [
        {
          "output_type": "execute_result",
          "data": {
            "text/html": [
              "<div>\n",
              "<style scoped>\n",
              "    .dataframe tbody tr th:only-of-type {\n",
              "        vertical-align: middle;\n",
              "    }\n",
              "\n",
              "    .dataframe tbody tr th {\n",
              "        vertical-align: top;\n",
              "    }\n",
              "\n",
              "    .dataframe thead th {\n",
              "        text-align: right;\n",
              "    }\n",
              "</style>\n",
              "<table border=\"1\" class=\"dataframe\">\n",
              "  <thead>\n",
              "    <tr style=\"text-align: right;\">\n",
              "      <th></th>\n",
              "      <th>ID</th>\n",
              "      <th>country_code</th>\n",
              "      <th>region</th>\n",
              "      <th>age</th>\n",
              "      <th>FQ1</th>\n",
              "      <th>FQ2</th>\n",
              "      <th>FQ3</th>\n",
              "      <th>FQ4</th>\n",
              "      <th>FQ6</th>\n",
              "      <th>FQ7</th>\n",
              "      <th>FQ8</th>\n",
              "      <th>FQ9</th>\n",
              "      <th>FQ10</th>\n",
              "      <th>FQ11</th>\n",
              "      <th>FQ12</th>\n",
              "      <th>FQ13</th>\n",
              "      <th>FQ14</th>\n",
              "      <th>FQ15</th>\n",
              "      <th>FQ16</th>\n",
              "      <th>FQ18</th>\n",
              "      <th>FQ19</th>\n",
              "      <th>FQ20</th>\n",
              "      <th>FQ21</th>\n",
              "      <th>FQ22</th>\n",
              "      <th>FQ23</th>\n",
              "      <th>FQ24</th>\n",
              "      <th>FQ35</th>\n",
              "      <th>FQ25</th>\n",
              "      <th>FQ26</th>\n",
              "      <th>FQ29</th>\n",
              "      <th>FQ32</th>\n",
              "      <th>FQ33</th>\n",
              "      <th>FQ34</th>\n",
              "      <th>FQ37</th>\n",
              "      <th>Target</th>\n",
              "    </tr>\n",
              "  </thead>\n",
              "  <tbody>\n",
              "    <tr>\n",
              "      <th>0</th>\n",
              "      <td>ID_000J8GTZ</td>\n",
              "      <td>1</td>\n",
              "      <td>6</td>\n",
              "      <td>35.0</td>\n",
              "      <td>2</td>\n",
              "      <td>-1</td>\n",
              "      <td>-1</td>\n",
              "      <td>2</td>\n",
              "      <td>-1</td>\n",
              "      <td>1</td>\n",
              "      <td>2</td>\n",
              "      <td>1</td>\n",
              "      <td>1</td>\n",
              "      <td>2</td>\n",
              "      <td>2</td>\n",
              "      <td>2</td>\n",
              "      <td>2</td>\n",
              "      <td>2</td>\n",
              "      <td>2</td>\n",
              "      <td>2</td>\n",
              "      <td>4</td>\n",
              "      <td>2</td>\n",
              "      <td>1</td>\n",
              "      <td>1</td>\n",
              "      <td>2</td>\n",
              "      <td>-1</td>\n",
              "      <td>1</td>\n",
              "      <td>2</td>\n",
              "      <td>2</td>\n",
              "      <td>1</td>\n",
              "      <td>-1</td>\n",
              "      <td>1</td>\n",
              "      <td>1</td>\n",
              "      <td>0</td>\n",
              "      <td>0</td>\n",
              "    </tr>\n",
              "    <tr>\n",
              "      <th>1</th>\n",
              "      <td>ID_000QLXZM</td>\n",
              "      <td>32</td>\n",
              "      <td>7</td>\n",
              "      <td>70.0</td>\n",
              "      <td>2</td>\n",
              "      <td>-1</td>\n",
              "      <td>-1</td>\n",
              "      <td>2</td>\n",
              "      <td>-1</td>\n",
              "      <td>1</td>\n",
              "      <td>2</td>\n",
              "      <td>2</td>\n",
              "      <td>2</td>\n",
              "      <td>2</td>\n",
              "      <td>2</td>\n",
              "      <td>2</td>\n",
              "      <td>2</td>\n",
              "      <td>2</td>\n",
              "      <td>2</td>\n",
              "      <td>1</td>\n",
              "      <td>3</td>\n",
              "      <td>2</td>\n",
              "      <td>1</td>\n",
              "      <td>1</td>\n",
              "      <td>2</td>\n",
              "      <td>-1</td>\n",
              "      <td>-1</td>\n",
              "      <td>1</td>\n",
              "      <td>1</td>\n",
              "      <td>2</td>\n",
              "      <td>-1</td>\n",
              "      <td>1</td>\n",
              "      <td>2</td>\n",
              "      <td>0</td>\n",
              "      <td>0</td>\n",
              "    </tr>\n",
              "    <tr>\n",
              "      <th>2</th>\n",
              "      <td>ID_001728I2</td>\n",
              "      <td>71</td>\n",
              "      <td>7</td>\n",
              "      <td>22.0</td>\n",
              "      <td>2</td>\n",
              "      <td>1</td>\n",
              "      <td>-1</td>\n",
              "      <td>2</td>\n",
              "      <td>-1</td>\n",
              "      <td>1</td>\n",
              "      <td>2</td>\n",
              "      <td>2</td>\n",
              "      <td>2</td>\n",
              "      <td>4</td>\n",
              "      <td>2</td>\n",
              "      <td>2</td>\n",
              "      <td>1</td>\n",
              "      <td>2</td>\n",
              "      <td>1</td>\n",
              "      <td>1</td>\n",
              "      <td>-1</td>\n",
              "      <td>2</td>\n",
              "      <td>2</td>\n",
              "      <td>1</td>\n",
              "      <td>2</td>\n",
              "      <td>-1</td>\n",
              "      <td>-1</td>\n",
              "      <td>2</td>\n",
              "      <td>1</td>\n",
              "      <td>2</td>\n",
              "      <td>-1</td>\n",
              "      <td>2</td>\n",
              "      <td>1</td>\n",
              "      <td>1</td>\n",
              "      <td>0</td>\n",
              "    </tr>\n",
              "    <tr>\n",
              "      <th>3</th>\n",
              "      <td>ID_001R7IDN</td>\n",
              "      <td>48</td>\n",
              "      <td>3</td>\n",
              "      <td>27.0</td>\n",
              "      <td>1</td>\n",
              "      <td>-1</td>\n",
              "      <td>-1</td>\n",
              "      <td>2</td>\n",
              "      <td>2</td>\n",
              "      <td>-1</td>\n",
              "      <td>2</td>\n",
              "      <td>1</td>\n",
              "      <td>1</td>\n",
              "      <td>2</td>\n",
              "      <td>2</td>\n",
              "      <td>2</td>\n",
              "      <td>2</td>\n",
              "      <td>2</td>\n",
              "      <td>2</td>\n",
              "      <td>1</td>\n",
              "      <td>1</td>\n",
              "      <td>1</td>\n",
              "      <td>-1</td>\n",
              "      <td>1</td>\n",
              "      <td>2</td>\n",
              "      <td>-1</td>\n",
              "      <td>-1</td>\n",
              "      <td>2</td>\n",
              "      <td>2</td>\n",
              "      <td>-1</td>\n",
              "      <td>2</td>\n",
              "      <td>1</td>\n",
              "      <td>1</td>\n",
              "      <td>1</td>\n",
              "      <td>0</td>\n",
              "    </tr>\n",
              "    <tr>\n",
              "      <th>4</th>\n",
              "      <td>ID_0029QKF8</td>\n",
              "      <td>25</td>\n",
              "      <td>0</td>\n",
              "      <td>79.0</td>\n",
              "      <td>2</td>\n",
              "      <td>-1</td>\n",
              "      <td>-1</td>\n",
              "      <td>2</td>\n",
              "      <td>-1</td>\n",
              "      <td>-1</td>\n",
              "      <td>2</td>\n",
              "      <td>2</td>\n",
              "      <td>1</td>\n",
              "      <td>2</td>\n",
              "      <td>2</td>\n",
              "      <td>2</td>\n",
              "      <td>2</td>\n",
              "      <td>2</td>\n",
              "      <td>1</td>\n",
              "      <td>1</td>\n",
              "      <td>-1</td>\n",
              "      <td>2</td>\n",
              "      <td>2</td>\n",
              "      <td>1</td>\n",
              "      <td>1</td>\n",
              "      <td>2</td>\n",
              "      <td>-1</td>\n",
              "      <td>2</td>\n",
              "      <td>2</td>\n",
              "      <td>2</td>\n",
              "      <td>2</td>\n",
              "      <td>1</td>\n",
              "      <td>1</td>\n",
              "      <td>1</td>\n",
              "      <td>0</td>\n",
              "    </tr>\n",
              "  </tbody>\n",
              "</table>\n",
              "</div>"
            ],
            "text/plain": [
              "            ID  country_code  region   age  FQ1  ...  FQ32  FQ33  FQ34  FQ37  Target\n",
              "0  ID_000J8GTZ             1       6  35.0    2  ...    -1     1     1     0       0\n",
              "1  ID_000QLXZM            32       7  70.0    2  ...    -1     1     2     0       0\n",
              "2  ID_001728I2            71       7  22.0    2  ...    -1     2     1     1       0\n",
              "3  ID_001R7IDN            48       3  27.0    1  ...     2     1     1     1       0\n",
              "4  ID_0029QKF8            25       0  79.0    2  ...     2     1     1     1       0\n",
              "\n",
              "[5 rows x 35 columns]"
            ]
          },
          "metadata": {
            "tags": []
          },
          "execution_count": 13
        }
      ]
    },
    {
      "cell_type": "markdown",
      "metadata": {
        "id": "wh_x17Zw3M1f"
      },
      "source": [
        "# **Modeling**"
      ]
    },
    {
      "cell_type": "code",
      "metadata": {
        "id": "U81IQN7y3Ydl"
      },
      "source": [
        "class CFG :\n",
        "  SEED = 42\n",
        "  n_splits = 5\n",
        "  remove_features = ['ID', 'country','Target']\n",
        "  categ_features = ['country_code','region']\n",
        "  TARGET_COL = 'Target'\n",
        "\n",
        "  lgb_params = {'boosting_type': 'gbdt','objective': 'binary','metric': 'auc',\n",
        "                'n_estimators': 500,'colsample_bytree' : 0.8,\n",
        "                'seed': 42,'silent':False,'early_stopping_rounds': 100,'learning_rate' :0.1\n",
        "               }"
      ],
      "execution_count": 15,
      "outputs": []
    },
    {
      "cell_type": "code",
      "metadata": {
        "id": "43K869gY3dnd"
      },
      "source": [
        "def seed_everything(seed):\n",
        "    random.seed(seed)\n",
        "    np.random.seed(seed)"
      ],
      "execution_count": 16,
      "outputs": []
    },
    {
      "cell_type": "code",
      "metadata": {
        "id": "RFWRYdme3gUd"
      },
      "source": [
        "seed_everything(CFG.SEED)"
      ],
      "execution_count": 17,
      "outputs": []
    },
    {
      "cell_type": "code",
      "metadata": {
        "colab": {
          "base_uri": "https://localhost:8080/"
        },
        "id": "PhK6PZY93iXd",
        "outputId": "78705cdf-8317-4517-98dd-fb1080ce3645"
      },
      "source": [
        "features_columns = [col for col in train.columns if col not in CFG.remove_features]\n",
        "len(features_columns)"
      ],
      "execution_count": 18,
      "outputs": [
        {
          "output_type": "execute_result",
          "data": {
            "text/plain": [
              "33"
            ]
          },
          "metadata": {
            "tags": []
          },
          "execution_count": 18
        }
      ]
    },
    {
      "cell_type": "markdown",
      "metadata": {
        "id": "RlXbevmn-e0o"
      },
      "source": [
        "## **1. LightGBM**"
      ]
    },
    {
      "cell_type": "code",
      "metadata": {
        "id": "VfKa1n4LAPwY"
      },
      "source": [
        "def train_one_region(X,y,Test,skf,reg) :\n",
        "  print(30*'-')\n",
        "  oof_lgb = np.zeros((X.shape[0],))\n",
        "  Test['target'] = 0\n",
        "  lgb_preds = []\n",
        "  \n",
        "  for fold_, (trn_idx, val_idx) in enumerate(skf.split(X, X.country_code)):\n",
        "      tr_x, tr_y = X.iloc[trn_idx,:], y[trn_idx] \n",
        "      vl_x, vl_y = X.iloc[val_idx,:], y[val_idx] \n",
        "          \n",
        "      train_data = lgb.Dataset(tr_x, label=tr_y,categorical_feature=CFG.categ_features)\n",
        "      valid_data = lgb.Dataset(vl_x, label=vl_y,categorical_feature=CFG.categ_features)\n",
        "\n",
        "      estimator = lgb.train(CFG.lgb_params,train_data,valid_sets = [train_data,valid_data],verbose_eval = 0)\n",
        "      \n",
        "      y_pred_val = estimator.predict(vl_x,num_iteration=estimator.best_iteration)\n",
        "      oof_lgb[val_idx] = y_pred_val\n",
        "      \n",
        "      y_pred_test = estimator.predict(Test[features_columns],num_iteration=estimator.best_iteration)\n",
        "      lgb_preds.append(y_pred_test)\n",
        "      \n",
        "  print(f'Region[{reg}] AUC : ',roc_auc_score(y, oof_lgb))\n",
        "  print(30*'-')\n",
        "  return np.mean(lgb_preds,axis=0) , oof_lgb"
      ],
      "execution_count": 20,
      "outputs": []
    },
    {
      "cell_type": "code",
      "metadata": {
        "id": "L12cPUY-3k7u"
      },
      "source": [
        "def Custom_training() :\n",
        "\n",
        "  train_ids = [] ; test_ids = [] ;\n",
        "  train_target = [] ;oof_preds = [] ; test_preds = [] ;\n",
        "\n",
        "  for reg in tqdm_notebook(np.sort(train.region.unique())) :\n",
        "    skf = StratifiedKFold(n_splits=CFG.n_splits,shuffle=True, random_state=CFG.SEED)\n",
        "    train_ = train[train['region']==reg].reset_index(drop=True)\n",
        "    Test = test[test['region']==reg].reset_index(drop=True)\n",
        "    train_ids.extend(train_['ID'].values.tolist()) ; test_ids.extend(Test['ID'].values.tolist())\n",
        "    X , y   = train_[features_columns] , train_[CFG.TARGET_COL]\n",
        "    test_pred , oof_pred = train_one_region(X,y,Test,skf,reg=reg)\n",
        "    train_target.extend(y) ; oof_preds.extend(oof_pred) ; test_preds.extend(test_pred)\n",
        "\n",
        "  return train_ids , oof_preds ,train_target ,test_ids, test_preds"
      ],
      "execution_count": 22,
      "outputs": []
    },
    {
      "cell_type": "code",
      "metadata": {
        "colab": {
          "base_uri": "https://localhost:8080/",
          "height": 525,
          "referenced_widgets": [
            "56560fdc4ac941bf83f009d1f79134c1",
            "cdc4975b72f34004aa0a300d54b4ffb3",
            "4556e2737f584ccbb05aaf1e1664e03c",
            "9b07c2897f73432fb63a45f4cd3042a6",
            "7fb527f685ca44a7a59302df6bcd2864",
            "d10e12466c7649b690226ffeab1a8efe",
            "9d5a06482fc74f87b1c11642bdeca26c",
            "6469ff2f42ce4f53916bdeef640c2956"
          ]
        },
        "id": "CBtsDVRQAtky",
        "outputId": "441e78c1-e0de-4611-e207-1b0986c1a1fc"
      },
      "source": [
        "train_ids , oof_preds ,train_target ,test_ids, test_preds = Custom_training()"
      ],
      "execution_count": 23,
      "outputs": [
        {
          "output_type": "display_data",
          "data": {
            "application/vnd.jupyter.widget-view+json": {
              "model_id": "56560fdc4ac941bf83f009d1f79134c1",
              "version_minor": 0,
              "version_major": 2
            },
            "text/plain": [
              "HBox(children=(FloatProgress(value=0.0, max=9.0), HTML(value='')))"
            ]
          },
          "metadata": {
            "tags": []
          }
        },
        {
          "output_type": "stream",
          "text": [
            "------------------------------\n",
            "Region[-1] AUC :  0.5709805990270207\n",
            "------------------------------\n",
            "------------------------------\n",
            "Region[0] AUC :  0.5052724314901191\n",
            "------------------------------\n",
            "------------------------------\n",
            "Region[1] AUC :  0.5101629580425635\n",
            "------------------------------\n",
            "------------------------------\n",
            "Region[2] AUC :  0.5188523908229331\n",
            "------------------------------\n",
            "------------------------------\n",
            "Region[3] AUC :  0.5034877545592946\n",
            "------------------------------\n",
            "------------------------------\n",
            "Region[4] AUC :  0.5124508713138678\n",
            "------------------------------\n",
            "------------------------------\n",
            "Region[5] AUC :  0.5076364002508089\n",
            "------------------------------\n",
            "------------------------------\n",
            "Region[6] AUC :  0.5059167181698214\n",
            "------------------------------\n",
            "------------------------------\n",
            "Region[7] AUC :  0.5053698903094281\n",
            "------------------------------\n",
            "\n"
          ],
          "name": "stdout"
        }
      ]
    },
    {
      "cell_type": "code",
      "metadata": {
        "id": "nLtXfROuAth_"
      },
      "source": [
        "oof_data_lgbm = pd.DataFrame({'ID' :train_ids ,'OOF_lgbm' :oof_preds , 'Target' :train_target})"
      ],
      "execution_count": 24,
      "outputs": []
    },
    {
      "cell_type": "code",
      "metadata": {
        "colab": {
          "base_uri": "https://localhost:8080/"
        },
        "id": "gZRTBFQmAtff",
        "outputId": "b5dbfe99-fb65-49d9-b266-dedd207fc892"
      },
      "source": [
        "print(f'AUC : ',roc_auc_score(oof_data_lgbm['Target'], oof_data_lgbm['OOF_lgbm'])) # AUC :  0.5100533751060792"
      ],
      "execution_count": 25,
      "outputs": [
        {
          "output_type": "stream",
          "text": [
            "AUC :  0.5107955042799776\n"
          ],
          "name": "stdout"
        }
      ]
    },
    {
      "cell_type": "code",
      "metadata": {
        "colab": {
          "base_uri": "https://localhost:8080/"
        },
        "id": "7KBC8VLqC6yP",
        "outputId": "04f51d11-d3c6-4456-ecfc-c1aad79fb967"
      },
      "source": [
        "len(test_ids) ,len(test_preds)"
      ],
      "execution_count": 26,
      "outputs": [
        {
          "output_type": "execute_result",
          "data": {
            "text/plain": [
              "(46477, 46477)"
            ]
          },
          "metadata": {
            "tags": []
          },
          "execution_count": 26
        }
      ]
    },
    {
      "cell_type": "code",
      "metadata": {
        "id": "sfJFro17Ata4"
      },
      "source": [
        "Submission_lgbm = pd.DataFrame({'ID' :test_ids ,'Target' :test_preds})"
      ],
      "execution_count": 27,
      "outputs": []
    },
    {
      "cell_type": "code",
      "metadata": {
        "id": "1QUPH4pE4KYt",
        "colab": {
          "base_uri": "https://localhost:8080/",
          "height": 297
        },
        "outputId": "809853ac-7eac-422d-a145-167a916098b2"
      },
      "source": [
        "Submission_lgbm.describe()"
      ],
      "execution_count": 28,
      "outputs": [
        {
          "output_type": "execute_result",
          "data": {
            "text/html": [
              "<div>\n",
              "<style scoped>\n",
              "    .dataframe tbody tr th:only-of-type {\n",
              "        vertical-align: middle;\n",
              "    }\n",
              "\n",
              "    .dataframe tbody tr th {\n",
              "        vertical-align: top;\n",
              "    }\n",
              "\n",
              "    .dataframe thead th {\n",
              "        text-align: right;\n",
              "    }\n",
              "</style>\n",
              "<table border=\"1\" class=\"dataframe\">\n",
              "  <thead>\n",
              "    <tr style=\"text-align: right;\">\n",
              "      <th></th>\n",
              "      <th>Target</th>\n",
              "    </tr>\n",
              "  </thead>\n",
              "  <tbody>\n",
              "    <tr>\n",
              "      <th>count</th>\n",
              "      <td>46477.000000</td>\n",
              "    </tr>\n",
              "    <tr>\n",
              "      <th>mean</th>\n",
              "      <td>0.272474</td>\n",
              "    </tr>\n",
              "    <tr>\n",
              "      <th>std</th>\n",
              "      <td>0.034909</td>\n",
              "    </tr>\n",
              "    <tr>\n",
              "      <th>min</th>\n",
              "      <td>0.122583</td>\n",
              "    </tr>\n",
              "    <tr>\n",
              "      <th>25%</th>\n",
              "      <td>0.254157</td>\n",
              "    </tr>\n",
              "    <tr>\n",
              "      <th>50%</th>\n",
              "      <td>0.272696</td>\n",
              "    </tr>\n",
              "    <tr>\n",
              "      <th>75%</th>\n",
              "      <td>0.287921</td>\n",
              "    </tr>\n",
              "    <tr>\n",
              "      <th>max</th>\n",
              "      <td>0.535878</td>\n",
              "    </tr>\n",
              "  </tbody>\n",
              "</table>\n",
              "</div>"
            ],
            "text/plain": [
              "             Target\n",
              "count  46477.000000\n",
              "mean       0.272474\n",
              "std        0.034909\n",
              "min        0.122583\n",
              "25%        0.254157\n",
              "50%        0.272696\n",
              "75%        0.287921\n",
              "max        0.535878"
            ]
          },
          "metadata": {
            "tags": []
          },
          "execution_count": 28
        }
      ]
    },
    {
      "cell_type": "code",
      "metadata": {
        "id": "OgoTHhRSAvkr"
      },
      "source": [
        "Submission_lgbm.to_csv('Unofficial_Winning_Solution.csv',index=False)"
      ],
      "execution_count": null,
      "outputs": []
    }
  ]
}